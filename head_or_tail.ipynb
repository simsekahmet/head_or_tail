{
  "nbformat": 4,
  "nbformat_minor": 0,
  "metadata": {
    "colab": {
      "provenance": [],
      "authorship_tag": "ABX9TyNZCxy5mLfxV3gNUqXFgllH",
      "include_colab_link": true
    },
    "kernelspec": {
      "name": "python3",
      "display_name": "Python 3"
    },
    "language_info": {
      "name": "python"
    }
  },
  "cells": [
    {
      "cell_type": "markdown",
      "metadata": {
        "id": "view-in-github",
        "colab_type": "text"
      },
      "source": [
        "<a href=\"https://colab.research.google.com/github/simsekahmet/head_or_tail/blob/main/head_or_tail.ipynb\" target=\"_parent\"><img src=\"https://colab.research.google.com/assets/colab-badge.svg\" alt=\"Open In Colab\"/></a>"
      ]
    },
    {
      "cell_type": "code",
      "execution_count": null,
      "metadata": {
        "id": "Xn70ifEaSGSQ"
      },
      "outputs": [],
      "source": [
        "def heads_or_tails():\n",
        "  \"\"\" Head or Tail Game.\n",
        "\n",
        "      ----------\n",
        "      Parameters: None\n",
        "\n",
        "      ----------\n",
        "      Returns (str): 'head!' or 'tail!'\n",
        "\n",
        "  \"\"\"\n",
        "  import numpy as np\n",
        "  a = np.random.randint(2, size=1)\n",
        "  if a==0:\n",
        "    return \"head!\"\n",
        "  else:\n",
        "    return \"tail!\""
      ]
    },
    {
      "cell_type": "code",
      "source": [
        "heads_or_tails_list = [heads_or_tails() for i in range(1,100)]\n",
        "\n",
        "count_head = heads_or_tails_list.count(\"head!\")\n",
        "count_tail = heads_or_tails_list.count(\"tail!\")\n",
        "\n",
        "print(f\"head frequency: {count_head}\")\n",
        "print(f\"tail frequency: {count_tail}\")\n",
        "print(f\"head frequency / tail frequency:  {count_head/count_tail}\")"
      ],
      "metadata": {
        "colab": {
          "base_uri": "https://localhost:8080/"
        },
        "id": "q-Gr9LeRS87o",
        "outputId": "26b8034b-b2e0-41c5-f8b4-ca43da20e407"
      },
      "execution_count": null,
      "outputs": [
        {
          "output_type": "stream",
          "name": "stdout",
          "text": [
            "head frequency: 52\n",
            "tail frequency: 47\n",
            "head frequency / tail frequency:  1.1063829787234043\n"
          ]
        }
      ]
    }
  ]
}